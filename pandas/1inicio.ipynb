{
  "cells": [
    {
      "cell_type": "markdown",
      "metadata": {
        "id": "KqNJpEYz3ziR"
      },
      "source": [
        "# Primeros pasos con Pandas\n",
        "\n",
        "Lo primero que se debe realizar en un proyecto que se desee trabajar con pandas es instalar la libreria si se va a desarrollar desde el equipo propio:\n",
        "\n",
        "1. si trabajas con el ambiente virtual de python:\n",
        "\n",
        "~~~\n",
        "pip install pandas\n",
        "~~~\n",
        "\n",
        "2. si trabajas con conda:\n",
        "\n",
        "~~~\n",
        "conda install pandas\n",
        "~~~\n",
        "Al instalar Pandas, se instala numpy, dado que pandas lo requiere para su funcionamiento.\n",
        "\n",
        "posteriormente lo importas al archivo de trabajo, ya sea un documento plano, o un jupyter notebook, por lo general se debe importan tambien numpy.\n"
      ]
    },
    {
      "cell_type": "code",
      "execution_count": 3,
      "metadata": {
        "id": "sCceTmpb7jVq"
      },
      "outputs": [],
      "source": [
        "import pandas as pd\n",
        "import numpy as np"
      ]
    },
    {
      "cell_type": "markdown",
      "metadata": {
        "id": "PjixQZhQ8rtx"
      },
      "source": [
        "## Array:\n",
        "El primer elemento de trabajo corresponde a un array, de la libreria numpy, el cual puede tener varias diemnsiones, de manera que si solo cuenta con una lista, corresponde a un vector, sin embargo si cuenta con varias listas, corresponde a una matriz.\n",
        "\n",
        "#### Ejemplo: #### \n",
        "[1,2,3,4] es un vector con 4 componentes, pero:\n",
        "\n",
        "~~~\n",
        "[1,2,3]\n",
        "[4,5,6]\n",
        "~~~\n",
        "es una matriz 2 x 3"
      ]
    },
    {
      "cell_type": "code",
      "execution_count": 4,
      "metadata": {
        "id": "UTd4lXZ99s61"
      },
      "outputs": [],
      "source": [
        "matriz1 = np.array([[1,2,3,4,5],[6,7,8,9,0]])"
      ]
    },
    {
      "cell_type": "markdown",
      "metadata": {
        "id": "BFXbVT01-1us"
      },
      "source": [
        "### Obtener valores de un array:\n",
        "\n",
        "Para obtener los valores de un array se puede especificar la fila:"
      ]
    },
    {
      "cell_type": "code",
      "execution_count": 5,
      "metadata": {
        "colab": {
          "base_uri": "https://localhost:8080/"
        },
        "id": "ssC4bvpuCZVH",
        "outputId": "b9e9e4bc-bbda-45be-c11a-332d87e847ec"
      },
      "outputs": [
        {
          "data": {
            "text/plain": [
              "array([6, 7, 8, 9, 0])"
            ]
          },
          "execution_count": 5,
          "metadata": {},
          "output_type": "execute_result"
        }
      ],
      "source": [
        "matriz1[1]"
      ]
    },
    {
      "cell_type": "markdown",
      "metadata": {
        "id": "U0C-HVV0_Sb_"
      },
      "source": [
        "Se puede especificar la fila y la columna:"
      ]
    },
    {
      "cell_type": "code",
      "execution_count": 6,
      "metadata": {
        "colab": {
          "base_uri": "https://localhost:8080/"
        },
        "id": "G6tNSlLbE3Nd",
        "outputId": "dfea2fad-404a-496b-b8c1-709a4e18c507"
      },
      "outputs": [
        {
          "data": {
            "text/plain": [
              "5"
            ]
          },
          "execution_count": 6,
          "metadata": {},
          "output_type": "execute_result"
        }
      ],
      "source": [
        "matriz1[0,4]"
      ]
    },
    {
      "cell_type": "code",
      "execution_count": 7,
      "metadata": {
        "colab": {
          "base_uri": "https://localhost:8080/"
        },
        "id": "xVJZWIWl_YCU",
        "outputId": "8a758d7c-779b-46c6-ecc6-55e6e1af787e"
      },
      "outputs": [
        {
          "data": {
            "text/plain": [
              "5"
            ]
          },
          "execution_count": 7,
          "metadata": {},
          "output_type": "execute_result"
        }
      ],
      "source": [
        "matriz1[0][4]"
      ]
    },
    {
      "cell_type": "markdown",
      "metadata": {
        "id": "AvYnT8z7_fJM"
      },
      "source": [
        "o se puede seleccionar la fila y un conjunto de columnas"
      ]
    },
    {
      "cell_type": "code",
      "execution_count": 8,
      "metadata": {
        "colab": {
          "base_uri": "https://localhost:8080/"
        },
        "id": "849mZ3d8IuBH",
        "outputId": "82141707-3811-4918-f82c-ae8100ba9094"
      },
      "outputs": [
        {
          "data": {
            "text/plain": [
              "array([7, 9])"
            ]
          },
          "execution_count": 8,
          "metadata": {},
          "output_type": "execute_result"
        }
      ],
      "source": [
        "matriz1[1][1:5:2]"
      ]
    },
    {
      "cell_type": "markdown",
      "metadata": {
        "id": "-Gpiyk_8_6Jv"
      },
      "source": [
        "## Series:\n",
        "Corresponde a un array pero de la libreria de pandas, la diferencia es que en pandas la serie indexa los datos por defecto con numeros de 0 a n.\n",
        "\n",
        "si se establece una sola lista, genera cada valor de la lista como una fila:"
      ]
    },
    {
      "cell_type": "code",
      "execution_count": 9,
      "metadata": {
        "colab": {
          "base_uri": "https://localhost:8080/"
        },
        "id": "0nOiKUbyAx8D",
        "outputId": "49447c4e-7cfb-4b0c-8066-b53e2da5a6a5"
      },
      "outputs": [
        {
          "data": {
            "text/plain": [
              "0     70\n",
              "1     80\n",
              "2     90\n",
              "3      0\n",
              "4    100\n",
              "5    200\n",
              "dtype: int64"
            ]
          },
          "execution_count": 9,
          "metadata": {},
          "output_type": "execute_result"
        }
      ],
      "source": [
        "serie = pd.Series([70,80,90,00,100,200])\n",
        "serie"
      ]
    },
    {
      "cell_type": "markdown",
      "metadata": {
        "id": "0wkxl4CfAdII"
      },
      "source": [
        "Pero si se incluyen varias listas, devuelve cada lista como un elemento del respectivo indice."
      ]
    },
    {
      "cell_type": "code",
      "execution_count": 10,
      "metadata": {
        "colab": {
          "base_uri": "https://localhost:8080/"
        },
        "id": "3J7TnSbME7no",
        "outputId": "848f1be4-a76b-4340-ea9b-2e1c6b150f87"
      },
      "outputs": [
        {
          "data": {
            "text/plain": [
              "0    [1, 2, 3, 4, 5]\n",
              "1    [6, 7, 8, 9, 0]\n",
              "dtype: object"
            ]
          },
          "execution_count": 10,
          "metadata": {},
          "output_type": "execute_result"
        }
      ],
      "source": [
        "serie1=pd.Series([[1,2,3,4,5], [6,7,8,9,0]])\n",
        "serie1"
      ]
    },
    {
      "cell_type": "markdown",
      "metadata": {
        "id": "ynLMfHtzBJaw"
      },
      "source": [
        "no obstante, si no se establece que los vectores(listas) estan entre [], pandas interpreta que el primer vector corresponde a los datos, y el segundo corresponde a los indices personalizados:"
      ]
    },
    {
      "cell_type": "code",
      "execution_count": 11,
      "metadata": {
        "colab": {
          "base_uri": "https://localhost:8080/"
        },
        "id": "twefPfFVGsis",
        "outputId": "36426ff9-cd0c-449d-f2fe-f687dcd0ba3e"
      },
      "outputs": [
        {
          "data": {
            "text/plain": [
              "a    1\n",
              "b    2\n",
              "c    3\n",
              "d    4\n",
              "e    5\n",
              "dtype: int64"
            ]
          },
          "execution_count": 11,
          "metadata": {},
          "output_type": "execute_result"
        }
      ],
      "source": [
        "serie1=pd.Series([1,2,3,4,5], ['a','b','c','d','e'])\n",
        "serie1"
      ]
    },
    {
      "cell_type": "code",
      "execution_count": 12,
      "metadata": {
        "colab": {
          "base_uri": "https://localhost:8080/"
        },
        "id": "qTsKROeIQCxY",
        "outputId": "ae704c33-e0e2-4121-e02d-cffe76f66aba"
      },
      "outputs": [
        {
          "data": {
            "text/plain": [
              "A    [a, b, c]\n",
              "B    [d, e, f]\n",
              "C    [g, h, i]\n",
              "dtype: object"
            ]
          },
          "execution_count": 12,
          "metadata": {},
          "output_type": "execute_result"
        }
      ],
      "source": [
        "serie2=pd.Series([['a','b','c'],['d','e','f'],['g','h','i']], index=['A', 'B', 'C'])\n",
        "serie2"
      ]
    },
    {
      "cell_type": "markdown",
      "metadata": {
        "id": "BnzARFKJBera"
      },
      "source": [
        "Tambien se pude convertir de un diccionario a una serie:"
      ]
    },
    {
      "cell_type": "code",
      "execution_count": 13,
      "metadata": {
        "id": "pOZv-jAlIrWP"
      },
      "outputs": [],
      "source": [
        "d1={'a':[100, 'pesos', 'Colombia'], 'b':[200, 'pesos', 'Mexico']}"
      ]
    },
    {
      "cell_type": "code",
      "execution_count": 14,
      "metadata": {
        "colab": {
          "base_uri": "https://localhost:8080/"
        },
        "id": "lYbktzhPMtNC",
        "outputId": "fea58256-93ba-4337-a405-7946e2bbed60"
      },
      "outputs": [
        {
          "data": {
            "text/plain": [
              "a    [100, pesos, Colombia]\n",
              "b      [200, pesos, Mexico]\n",
              "dtype: object"
            ]
          },
          "execution_count": 14,
          "metadata": {},
          "output_type": "execute_result"
        }
      ],
      "source": [
        "d2=pd.Series(d1)\n",
        "d2"
      ]
    },
    {
      "cell_type": "markdown",
      "metadata": {
        "id": "Rd5smhc3DFSW"
      },
      "source": [
        "Tambien la serie permite cambiar el indice en cualquier momento, no obstante al realizar dicho cambio se pierden los elementos guardados incialmente."
      ]
    },
    {
      "cell_type": "code",
      "execution_count": 15,
      "metadata": {
        "colab": {
          "base_uri": "https://localhost:8080/"
        },
        "id": "OlVo4gZgM7fV",
        "outputId": "0214e136-f26f-4068-c82e-486619d06807"
      },
      "outputs": [
        {
          "data": {
            "text/plain": [
              "A                     NaN\n",
              "b    [200, pesos, Mexico]\n",
              "dtype: object"
            ]
          },
          "execution_count": 15,
          "metadata": {},
          "output_type": "execute_result"
        }
      ],
      "source": [
        "d2=pd.Series(d1, ['A','b'])\n",
        "d2"
      ]
    },
    {
      "cell_type": "markdown",
      "metadata": {
        "id": "QfxlTfsjEvuS"
      },
      "source": [
        "### Obtener valores de una serie:\n",
        "\n",
        "Para obtener valores se puede realizar de la misma forma que para un array utilizando los dos [], el primero para la fila y el segundo para la columna.\n",
        "\n",
        "####Nota:\n",
        "no se puede obtener valores por columnas!! "
      ]
    },
    {
      "cell_type": "code",
      "execution_count": 16,
      "metadata": {
        "colab": {
          "base_uri": "https://localhost:8080/",
          "height": 35
        },
        "id": "IBkyI_97FAKy",
        "outputId": "df2c8069-524b-4090-eafa-65949ed06484"
      },
      "outputs": [
        {
          "data": {
            "text/plain": [
              "'pesos'"
            ]
          },
          "execution_count": 16,
          "metadata": {},
          "output_type": "execute_result"
        }
      ],
      "source": [
        "d2[1][1]"
      ]
    },
    {
      "cell_type": "code",
      "execution_count": 17,
      "metadata": {
        "colab": {
          "base_uri": "https://localhost:8080/"
        },
        "id": "9aWogl7OK96l",
        "outputId": "f3e2af9b-e099-40b0-b6b4-b079e4e39757"
      },
      "outputs": [
        {
          "data": {
            "text/plain": [
              "c    3\n",
              "d    4\n",
              "dtype: int64"
            ]
          },
          "execution_count": 17,
          "metadata": {},
          "output_type": "execute_result"
        }
      ],
      "source": [
        "serie1[2:4]"
      ]
    },
    {
      "cell_type": "code",
      "execution_count": 18,
      "metadata": {
        "colab": {
          "base_uri": "https://localhost:8080/",
          "height": 35
        },
        "id": "Tw6C7wNZRauu",
        "outputId": "a2bf8f73-b972-4d10-b42e-6a4c0bd023c1"
      },
      "outputs": [
        {
          "data": {
            "text/plain": [
              "'c'"
            ]
          },
          "execution_count": 18,
          "metadata": {},
          "output_type": "execute_result"
        }
      ],
      "source": [
        "serie2['A'][2]"
      ]
    },
    {
      "cell_type": "markdown",
      "metadata": {
        "id": "jzxn2IZXDl9R"
      },
      "source": [
        "Tanto los arrays como las series se puede conocer sus dimensiones:"
      ]
    },
    {
      "cell_type": "code",
      "execution_count": 19,
      "metadata": {
        "colab": {
          "base_uri": "https://localhost:8080/"
        },
        "id": "5JDsW0AXDlHF",
        "outputId": "885682c7-cfed-40d9-8a2f-7fd8d0e5b9f0"
      },
      "outputs": [
        {
          "data": {
            "text/plain": [
              "(2, 5)"
            ]
          },
          "execution_count": 19,
          "metadata": {},
          "output_type": "execute_result"
        }
      ],
      "source": [
        "matriz1.shape"
      ]
    },
    {
      "cell_type": "code",
      "execution_count": 20,
      "metadata": {
        "colab": {
          "base_uri": "https://localhost:8080/"
        },
        "id": "1dnsLhKOEGHE",
        "outputId": "e3a25082-24d1-47fa-dc5b-410d3bb606a3"
      },
      "outputs": [
        {
          "data": {
            "text/plain": [
              "(5,)"
            ]
          },
          "execution_count": 20,
          "metadata": {},
          "output_type": "execute_result"
        }
      ],
      "source": [
        "serie1.shape"
      ]
    }
  ],
  "metadata": {
    "colab": {
      "collapsed_sections": [
        "PjixQZhQ8rtx",
        "BFXbVT01-1us"
      ],
      "name": "1.inicio.ipynb",
      "provenance": []
    },
    "kernelspec": {
      "display_name": "Python 3",
      "name": "python3"
    },
    "language_info": {
      "codemirror_mode": {
        "name": "ipython",
        "version": 3
      },
      "file_extension": ".py",
      "mimetype": "text/x-python",
      "name": "python",
      "nbconvert_exporter": "python",
      "pygments_lexer": "ipython3",
      "version": "3.8.8"
    }
  },
  "nbformat": 4,
  "nbformat_minor": 0
}
