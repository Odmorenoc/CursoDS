{
 "cells": [
  {
   "cell_type": "markdown",
   "metadata": {},
   "source": [
    "# Pipeline de procesamiento de datos numéricos:\n",
    "\n",
    "Hace referencia al procesamiento que se le debe realizar a los datos previo al modelamiento de proyectos de machine learning."
   ]
  },
  {
   "cell_type": "markdown",
   "metadata": {},
   "source": [
    "## Normalización de los datos por __escalamiento lineal__:\n",
    "\n",
    "Corresponde a reescalar los datos en un rango simplificado de entre -1 y 1, manera que los modelos sean más eficientes.\n",
    "\n",
    "__*Nota*__: Solo se utiliza cuando los datos tienen una distribución normal o gaussiana.\n",
    "\n",
    "### Tipos de escalamiento Linear:\n",
    "\n",
    "- min-max: el proceso de escalado se realiza mediante la siguiente ecuación:\n",
    "    $$ x_s = \\frac{2x-min-max}{max-min} $$ \n",
    "    En donde $x_s$ corresponde al dato escalado y x corresponde al dato original del dataset.\n",
    "\n",
    "- Clipping: el proceso de escalado requiere seleccionar limites inferior y superior del dataset original de manera que los outliers sean colapsados a esos valores limite.\n",
    "    $$ x_s= \\left\\{ \\begin{array}{lcc}\n",
    "             x & si & lim_{inf} < x < lim_{sup} \\\\\n",
    "             \\\\ lim_{inf} & si & x < lim_{inf} \\\\\n",
    "             \\\\ lim_{sup} &  si  & x > lim_{sup}\n",
    "             \\end{array}\n",
    "   \\right. $$\n",
    "    ***Nota***: No es un metodo muy recomendable por que se pierde la fiabilidad de los datos extremos.\n",
    "   \n",
    "- z-score: El proceso de escalado se basa directamente en los estadisticos de dispersión como el promedio y la desviación estandar: \n",
    "    $$ x_s = \\frac{x-\\bar{x}}{\\sigma} $$\n",
    "\n",
    "- Winsorrizing: se utiliza el percentil del dato en vez que el dato bruto.\n",
    "- otros."
   ]
  },
  {
   "cell_type": "markdown",
   "metadata": {},
   "source": [
    "### Codigo:\n",
    "se instalan las librerias en caso de no tenerlas instaladas."
   ]
  },
  {
   "cell_type": "markdown",
   "metadata": {},
   "source": [
    "#### Librerias:\n",
    "Se importan las librerias a utilizar."
   ]
  },
  {
   "cell_type": "code",
   "execution_count": 112,
   "metadata": {},
   "outputs": [],
   "source": [
    "# pip install -U scikit-learn"
   ]
  },
  {
   "cell_type": "code",
   "execution_count": 113,
   "metadata": {},
   "outputs": [],
   "source": [
    "import timeit\n",
    "import numpy as np\n",
    "import pandas as pd\n",
    "import matplotlib.pyplot as plt\n",
    "from sklearn import datasets, linear_model\n"
   ]
  },
  {
   "cell_type": "markdown",
   "metadata": {},
   "source": [
    "#### Dataframe:\n",
    "Se agrega el dataframe con el que se va a trabajar, para este caso el dataset de diabetes el cual se compone de 442 registros para 10 variables."
   ]
  },
  {
   "cell_type": "code",
   "execution_count": 114,
   "metadata": {},
   "outputs": [],
   "source": [
    "data, target = datasets.load_diabetes(return_X_y=True)"
   ]
  },
  {
   "cell_type": "markdown",
   "metadata": {},
   "source": [
    "El codigo: `data, target = datasets.load_diabetes(return_X_y=True)` lo que hace es traer los datos al array `data` y los valores de la variable dependiente al array `target`"
   ]
  },
  {
   "cell_type": "code",
   "execution_count": 115,
   "metadata": {},
   "outputs": [
    {
     "name": "stdout",
     "output_type": "stream",
     "text": [
      "(442,)\n",
      "(442, 10)\n"
     ]
    }
   ],
   "source": [
    "print(target.shape)\n",
    "print(data.shape)"
   ]
  },
  {
   "cell_type": "markdown",
   "metadata": {},
   "source": [
    "de los datos originales `data` se extrae todos los registros de la columna 2 sin hacerle ningun tipo de transformación, y los guardamos en el array `raw` así:\n",
    "\n",
    "variable[\"datos a seleccionar\", \"tipo de transformación\", \"columna a extraer\"]"
   ]
  },
  {
   "cell_type": "code",
   "execution_count": 116,
   "metadata": {},
   "outputs": [],
   "source": [
    "raw = data[:, None, 2]"
   ]
  },
  {
   "cell_type": "markdown",
   "metadata": {},
   "source": [
    "#### Escalamiento:"
   ]
  },
  {
   "cell_type": "markdown",
   "metadata": {},
   "source": [
    "##### Escalamiento Max-Min:"
   ]
  },
  {
   "cell_type": "code",
   "execution_count": 117,
   "metadata": {},
   "outputs": [],
   "source": [
    "# normalización por Max-Min por formula\n",
    "max_raw = max(raw)\n",
    "min_raw = min(raw)\n",
    "maxmin_formula = (2*raw - max_raw -min_raw)/(max_raw - min_raw)\n",
    "\n",
    "# normalización por Max-Min por formula\n",
    "from sklearn import preprocessing\n",
    "maxmin_scaler=preprocessing.MinMaxScaler(feature_range=(-1,1))\n",
    "maxmin_funcion=maxmin_scaler.fit_transform(raw) "
   ]
  },
  {
   "cell_type": "markdown",
   "metadata": {},
   "source": [
    "##### Escalamiento Z-score:"
   ]
  },
  {
   "cell_type": "code",
   "execution_count": 118,
   "metadata": {},
   "outputs": [],
   "source": [
    "# normalización Z-score por formula\n",
    "avg = np.mean(raw)\n",
    "std = np.std(raw)\n",
    "z_scaled_formula = (raw - avg)/std\n",
    "\n",
    "# normalización Z-score por funcion scikit-learn\n",
    "z_sc=preprocessing.StandardScaler()\n",
    "z_scaled_funcion=z_sc.fit_transform(raw) "
   ]
  },
  {
   "cell_type": "markdown",
   "metadata": {},
   "source": [
    "#### Graficado:\n",
    "\n",
    "Para entender visualmente el escalado que se realizó por los dos metodos se procese a ralizar el histograma para los tres arrays, `raw`, `scaled` y `z_scaled`"
   ]
  },
  {
   "cell_type": "code",
   "execution_count": 119,
   "metadata": {},
   "outputs": [
    {
     "data": {
      "text/plain": [
       "Text(0.5, 1.0, 'Z-Score por función')"
      ]
     },
     "execution_count": 119,
     "metadata": {},
     "output_type": "execute_result"
    },
    {
     "data": {
      "image/png": "[encoded data removed]",
      "text/plain": [
       "<Figure size 432x288 with 5 Axes>"
      ]
     },
     "metadata": {
      "needs_background": "light"
     },
     "output_type": "display_data"
    }
   ],
   "source": [
    "fig, axs = plt.subplots(5, 1, sharex=True, tight_layout=True)\n",
    "\n",
    "axs[0].hist(raw)\n",
    "axs[0].set_title(\"Original\")\n",
    "axs[1].hist(maxmin_formula)\n",
    "axs[1].set_title(\"Max-Min por formula\")\n",
    "axs[2].hist(maxmin_funcion)\n",
    "axs[2].set_title(\"Max-Min por función\")\n",
    "axs[3].hist(z_scaled_formula)\n",
    "axs[3].set_title(\"Z-Score por formula\")\n",
    "axs[4].hist(z_scaled_funcion)\n",
    "axs[4].set_title(\"Z-Score por función\")"
   ]
  },
  {
   "cell_type": "markdown",
   "metadata": {},
   "source": [
    "#### Escalamiento Max-Min:"
   ]
  },
  {
   "cell_type": "markdown",
   "metadata": {},
   "source": [
    "#### Validación de tiempos:\n",
    "\n",
    "Para validación de la optimización de tiempos se va a utilizar la regresión lineal."
   ]
  },
  {
   "cell_type": "code",
   "execution_count": 120,
   "metadata": {},
   "outputs": [],
   "source": [
    "def tRaw():\n",
    "    linear_model.LinearRegression().fit(raw, target)\n",
    "\n",
    "def tMaxminFor():\n",
    "    linear_model.LinearRegression().fit(maxmin_formula, target)\n",
    "\n",
    "def tMaxminFun():\n",
    "    linear_model.LinearRegression().fit(maxmin_funcion, target)\n",
    "\n",
    "def tZFor():\n",
    "    linear_model.LinearRegression().fit(z_scaled_formula, target)\n",
    "\n",
    "def tZFun():\n",
    "    linear_model.LinearRegression().fit(z_scaled_funcion, target)"
   ]
  },
  {
   "cell_type": "code",
   "execution_count": 121,
   "metadata": {},
   "outputs": [
    {
     "name": "stdout",
     "output_type": "stream",
     "text": [
      "raw: 0.09490670000013779 \n",
      "Max-Min por formula: 0.06926650000241352\n",
      "Max-Min por función: 0.061702800001512514\n",
      "Z-score por formula: 0.05457350000142469\n",
      "Z-score por función: 0.04442850000123144\n"
     ]
    }
   ],
   "source": [
    "raw_time = timeit.timeit(tRaw, number = 100)\n",
    "MaxMin_Formula_time = timeit.timeit(tMaxminFor, number = 100)\n",
    "MaxMin_Funcion_time = timeit.timeit(tMaxminFun, number = 100)\n",
    "Z_Formula_time = timeit.timeit(tZFor, number = 100)\n",
    "Z_Funcion_time = timeit.timeit(tZFun, number = 100)\n",
    "print('raw: {} '.format(raw_time))\n",
    "print('Max-Min por formula: {}'.format(MaxMin_Formula_time))\n",
    "print('Max-Min por función: {}'.format(MaxMin_Funcion_time))\n",
    "print('Z-score por formula: {}'.format(Z_Formula_time))\n",
    "print('Z-score por función: {}'.format(Z_Funcion_time))\n"
   ]
  },
  {
   "cell_type": "markdown",
   "metadata": {},
   "source": [
    "## Normalización de datos por ***transformación no lineal***:\n",
    "\n",
    "a diferencia del escalamiento linear, esta normalización se utiliza cuando se cuentan con datos que no tienen una distribución normal. por lo tanto en esta normalización lo que hace es transformar los datos con una distribución no normal a datos con distribución normal, para posteriormente realizar el escalamiento lineal.\n",
    "\n",
    "### Tipos de tranformaciones no lineales:\n",
    "\n",
    "- raiz: \n",
    "    $$ x_s = \\sqrt{x}\n",
    "- Logistico: \n",
    "    $$ x_s = \\frac{1}{1+e^{-x}} $$\n",
    "- TanH:\n",
    "    $$ p(k|x;\\Theta) = \\frac{[E(Y|x)]^k*e^{-E(Y|x)}}{k!}$$\n",
    "- Otros."
   ]
  },
  {
   "cell_type": "markdown",
   "metadata": {},
   "source": [
    "### Codigo:"
   ]
  },
  {
   "cell_type": "markdown",
   "metadata": {},
   "source": [
    "#### Dataframe:\n",
    "\n",
    "Para los ejercicios de transformación no lineal se va a utilizar los datos del archivo cars.csv"
   ]
  },
  {
   "cell_type": "code",
   "execution_count": 122,
   "metadata": {},
   "outputs": [],
   "source": [
    "df = pd.read_csv('notas/cars.csv')"
   ]
  },
  {
   "cell_type": "code",
   "execution_count": 123,
   "metadata": {},
   "outputs": [
    {
     "data": {
      "text/plain": [
       "<AxesSubplot:>"
      ]
     },
     "execution_count": 123,
     "metadata": {},
     "output_type": "execute_result"
    },
    {
     "data": {
      "image/png": "[encoded data removed]",
      "text/plain": [
       "<Figure size 432x288 with 1 Axes>"
      ]
     },
     "metadata": {
      "needs_background": "light"
     },
     "output_type": "display_data"
    }
   ],
   "source": [
    "price = df['price_usd']\n",
    "price.hist()"
   ]
  },
  {
   "cell_type": "markdown",
   "metadata": {},
   "source": [
    "#### Transformaciones: "
   ]
  },
  {
   "cell_type": "markdown",
   "metadata": {},
   "source": [
    "##### Transformación por TanH"
   ]
  },
  {
   "cell_type": "code",
   "execution_count": 124,
   "metadata": {},
   "outputs": [],
   "source": [
    "p= 10000\n",
    "transformado =price.apply(lambda x: np.tanh(x/p))"
   ]
  },
  {
   "cell_type": "markdown",
   "metadata": {},
   "source": [
    "###### Escalado por Max-Min:\n",
    "Una vez transformado se procede a realizar el Escalado lineal para dejarlo en el rando de -1 a 1."
   ]
  },
  {
   "cell_type": "code",
   "execution_count": 125,
   "metadata": {},
   "outputs": [],
   "source": [
    "max_price = max(transformado)\n",
    "min_price = min(transformado)\n",
    "maxmin_formula = (2*transformado - max_price - min_price)/(max_price - min_price)"
   ]
  },
  {
   "cell_type": "markdown",
   "metadata": {},
   "source": [
    "###### Graficado:\n",
    "En las graficas se evidencia que los datos originales eran fuertemente sesgados, despues de la transformación se obtuvo una distribución uniforme entre 0 y 1; y luego del escalado se obtuvo una distribución uniforme entre -1 y 1"
   ]
  },
  {
   "cell_type": "code",
   "execution_count": 126,
   "metadata": {},
   "outputs": [
    {
     "data": {
      "text/plain": [
       "Text(0.5, 1.0, 'Max-Min por formula')"
      ]
     },
     "execution_count": 126,
     "metadata": {},
     "output_type": "execute_result"
    },
    {
     "data": {
      "image/png": "[encoded data removed]",
      "text/plain": [
       "<Figure size 432x288 with 1 Axes>"
      ]
     },
     "metadata": {
      "needs_background": "light"
     },
     "output_type": "display_data"
    },
    {
     "data": {
      "image/png": "[encoded data removed]",
      "text/plain": [
       "<Figure size 432x288 with 2 Axes>"
      ]
     },
     "metadata": {
      "needs_background": "light"
     },
     "output_type": "display_data"
    }
   ],
   "source": [
    "price.hist()\n",
    "fig, axs = plt.subplots(2, 1, sharex=True, tight_layout=True)\n",
    "\n",
    "axs[0].hist(transformado)\n",
    "axs[0].set_title(\"transformados\")\n",
    "axs[1].hist(maxmin_formula)\n",
    "axs[1].set_title(\"Max-Min por formula\")"
   ]
  }
 ],
 "metadata": {
  "interpreter": {
   "hash": "c48f66d161b643ea566b416c069f7552a7f1d6676971ad3510f2177fc83daad2"
  },
  "kernelspec": {
   "display_name": "Python 3.8.8 ('venv': venv)",
   "language": "python",
   "name": "python3"
  },
  "language_info": {
   "codemirror_mode": {
    "name": "ipython",
    "version": 3
   },
   "file_extension": ".py",
   "mimetype": "text/x-python",
   "name": "python",
   "nbconvert_exporter": "python",
   "pygments_lexer": "ipython3",
   "version": "3.8.8"
  },
  "orig_nbformat": 4
 },
 "nbformat": 4,
 "nbformat_minor": 2
}
