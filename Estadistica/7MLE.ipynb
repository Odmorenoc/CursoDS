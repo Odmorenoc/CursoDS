{
 "cells": [
  {
   "cell_type": "markdown",
   "metadata": {},
   "source": [
    "# MLE (Maximum Likelihood Estimation):\n",
    "\n",
    "Corresponde a un framework para estimación de funciones de densidad de probabilidad, es decir hallar las funciones con maxima verosimilitud.\n",
    "\n",
    "Se debe tener en cuenta que el MLE siempre asume que se esta trabajando con muestras y no con el universo de los datos, y por lo tanto, para obtener la mayor verosimilitud se deben optimizar los parametros de las distribuciones, para obtener aquella distribución que se ajuste de mejor forma a los datos con los que contamos.\n",
    "\n",
    "## Elementos del MLE:\n",
    "\n",
    "1. Distribución\n",
    "2. Parametros de esa distribución.\n",
    "\n",
    "\n"
   ]
  },
  {
   "cell_type": "code",
   "execution_count": null,
   "metadata": {},
   "outputs": [],
   "source": []
  }
 ],
 "metadata": {
  "language_info": {
   "name": "python"
  },
  "orig_nbformat": 4
 },
 "nbformat": 4,
 "nbformat_minor": 2
}
