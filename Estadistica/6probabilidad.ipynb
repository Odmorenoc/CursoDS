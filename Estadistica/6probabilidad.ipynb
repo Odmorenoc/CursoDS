{
 "cells": [
  {
   "cell_type": "markdown",
   "metadata": {},
   "source": [
    "# Probabilidad:\n",
    "\n",
    "Corresponde a una rama de las matemáticas que se dedica a investigar sobre las formas de tomar decisiones con base en información incompleta.\n",
    "\n",
    "La probabilidad se puede dividir en dos escuelas de pensamiento:\n",
    "\n",
    "- Frecuentista: defiende que mediante la repetición indefinida de los sucesos se puede obtener los resultados teoricos.\n",
    "- Bayesiana: asume que las probabilidades teoricas son iguales a las reales.\n",
    "\n",
    "**$ Probabilidad =\\text{Es una creencia que tenemos sobre la ocurrencia de suscesos elementales} $**"
   ]
  },
  {
   "cell_type": "markdown",
   "metadata": {},
   "source": [
    "## Axiomas de la probabilidad:\n",
    "\n",
    "1. $0 \\leq P \\leq 1 $: significa que la probabilidad siempre esta entre 0 y 1.\n",
    "2. $Certeza \\rightarrow P =1$: Un evento certero tiende a tener una probabilidad igual a 1.\n",
    "3. $Imposibilidad \\rightarrow P =0$:Un evento imposible tiende a tener una probabilidad igual a 0.\n",
    "4. $Disyuncion \\rightarrow P(a\\cup b) =P(a)+P(b)$: En caso que se genere una situación u otra, es igual a la suma de las probabilidades de cada suceso.\n"
   ]
  },
  {
   "cell_type": "markdown",
   "metadata": {},
   "source": [
    "## Probabilidad en Machine Learnig:\n",
    "\n",
    "En machine learnig se aplica la probabilidad para analizar las diferentes fuentes de incertidumbre las cuales corresponden a:\n",
    "\n",
    "1. **Los datos**: Es decir la información base que se utiliza en el caso de estudio, dado que todos los metodos de recoleccion de información tienen cierto grado de error, lo cual genera que se cuente con información tanto incompleta como imperfecta.\n",
    "2. **Los atributos del modelo**: Es decir la información procesada que se le suministra al modelo, es frecuente que esta información (predictores) sea preprocesada para facilitar/optimizar un digestión por el modelo, por lo tanto este preprocesamiento  (escalamiento, reduccion de variables, etc) genera perdida de información o agrega una capa de incertidumbre sobre la fiabilidad de los resultados.\n",
    "3. **La arquitectura del modelo**: En si mismo, un modelo responde a una representación simplificada de la realidad, esto en si mismo, genera otra capa de incertidumbre, dado que para su construcción se omite información o en su defecto depende de la interpretación de la realidad con la que se construya el modelo."
   ]
  },
  {
   "cell_type": "markdown",
   "metadata": {},
   "source": [
    "## Tipos de probabilidad:\n",
    "\n",
    "1. **Conjunta (*joint*)**: Representa los resulados de la ejecución de las n situaciones tomadas como una sola o lo mismo que $$ P(a\\cap b) = P(a|b)P(b)$$\n",
    "2. **Condicional**: Responde al resultado de la situación b dado que sucedio la situación a, es decir se condiciona b ha que primero haya sucedido a. $$ P(a | b)= \\frac{P(a\\cap b)}{p(b)}$$\n",
    "3. **Marginal**:Representa los resultados de la probabilidad de a independientes de b. \n",
    "$$ P(b)=P(a\\cap b)/P(a|b)$$"
   ]
  },
  {
   "cell_type": "markdown",
   "metadata": {},
   "source": [
    "## Distribución de probabilidad\n",
    "\n",
    "Corresponde a la funcion que determina la probabilidad de un evento dado, es por esto que $f(x)$ corresponde a la ecuación que determina el resultado de la probabilidad de un evento.\n",
    "\n",
    "Se debe aclarar que en notación estadistica las variables se definen en mayuscula y los posibles valores que toma la variable se notan con minuscula por lo tanto la probabilidad de que X obtenga un valor de x se denota como: $P(X=x)$ y dicha probabilidad responde a una funcion que depende de la variable X es decir:\n",
    "$$ P=f(X) \\quad\\text{esta función tambien se denomina densidad de probabilidad}$$\n",
    "\n",
    "La densidad de probabilidad puede ser:\n",
    "- Continua\n",
    "- Discreta\n",
    "\n",
    "Así mismo, la integral definida de la función responde a probabilidad acumulada (área bajo la curva) entre dos limites definidos, por lo tanto, la integral indefinida responde a la funcin de probabilidad acumulada:\n",
    "\n",
    "$$ C(X) = \\int P(X) \\mathrm{d}X \\quad\\text{Es la funcion de probabilidad acumulada}$$\n"
   ]
  },
  {
   "cell_type": "markdown",
   "metadata": {},
   "source": [
    "### Distribución de Bernoulli:\n",
    "\n",
    "Es una distribución que se asocia a distribuciones binarias es decir, solo tienen dos valores:\n",
    "\n",
    "$$ P(X=1) = p \\quad\\text{probabilidad que salga el evento favorable}$$\n",
    "$$ P(X=0) = 1- p \\quad\\text{probabilidad que no salga el evento favorable}$$\n",
    "\n",
    "para resolver este tipo de distribuciones se utiliza la combinatoria en la cual se establece que:\n",
    "\n",
    "$$ _nC_k = \\begin{pmatrix}\n",
    "    n \\\\\n",
    "    k\n",
    "    \\end{pmatrix} = \\frac{n!}{k!(n-k)!}$$\n",
    "\n",
    "$$\\text{Donde } n\\text{: es el numero de intentos y } k\\text{: es el numero de casos favorables buscados} $$\n",
    "\n",
    "Por lo tanto, la distribución binomial esta dada por:\n",
    "\n",
    "$$ P(k,n,p) =  (_nC_k) p^k (1-p)^{n-k} \\quad\\text{con } p =\\frac{1}{2} \\text{ en el caso ideal}$$"
   ]
  },
  {
   "cell_type": "markdown",
   "metadata": {},
   "source": [
    "#### Codigo:\n",
    "##### Librerias:\n",
    "\n",
    "Se esta trabajando con el Kernel de venv (python 3.9.7)"
   ]
  },
  {
   "cell_type": "code",
   "execution_count": 1,
   "metadata": {},
   "outputs": [],
   "source": [
    "import numpy as np\n",
    "from numpy.random import binomial, normal\n",
    "from scipy.stats import binom, norm\n",
    "from math import factorial\n",
    "import matplotlib.pyplot as plt"
   ]
  },
  {
   "cell_type": "markdown",
   "metadata": {},
   "source": [
    "##### Secuencia de eventos tipo Bernoulli:\n",
    "\n",
    "Se procede a la construccion de la función en forma de una funcion de pyton, o utilizando la libreria de scipy.\n",
    "\n",
    "El metodo `.pmf()` representa la densidad de probabilidad para el numero de casos favorables que se desean y el metodo `.cdf()` que representa la función de probabilidad acumulada."
   ]
  },
  {
   "cell_type": "code",
   "execution_count": 2,
   "metadata": {},
   "outputs": [
    {
     "data": {
      "text/plain": [
       "0.375"
      ]
     },
     "execution_count": 2,
     "metadata": {},
     "output_type": "execute_result"
    }
   ],
   "source": [
    "def bernoulli(k: int, n:int, p: float):\n",
    "    return (factorial(n)/(factorial(k)*factorial(n-k)))*pow(p, k)*pow(1-p, n-k)\n",
    "\n",
    "bernoulli(2, 3, 0.5)"
   ]
  },
  {
   "cell_type": "code",
   "execution_count": 19,
   "metadata": {},
   "outputs": [
    {
     "data": {
      "text/plain": [
       "0.3750000000000001"
      ]
     },
     "execution_count": 19,
     "metadata": {},
     "output_type": "execute_result"
    }
   ],
   "source": [
    "dist = binom(3, 0.5)\n",
    "dist.pmf(2)"
   ]
  },
  {
   "cell_type": "code",
   "execution_count": 4,
   "metadata": {},
   "outputs": [
    {
     "data": {
      "text/plain": [
       "0.875"
      ]
     },
     "execution_count": 4,
     "metadata": {},
     "output_type": "execute_result"
    }
   ],
   "source": [
    "dist.cdf(2)"
   ]
  },
  {
   "cell_type": "markdown",
   "metadata": {},
   "source": [
    "De manera que la densidad de probabilidad (pmf = probability mass function) para n=2, k=3 y p=0.5, es de 0.375 o lo que es los mismo $\\frac{3}{8}$ y la funcion de probabilidad acumulada (cdf = cumulative distribution function) es de 0.875 o $\\frac{7}{8}$"
   ]
  },
  {
   "cell_type": "markdown",
   "metadata": {},
   "source": [
    "##### Simulaciones de secuencias con generadores aleatorios:\n",
    "\n",
    "Se realiza un experimento computarizado que simule las condiciones reales tales como lanzar una moneda o un dado.\n",
    "\n",
    "Para este ejercicio se realizará una simulación con 100 lanzamientos de una moneda equilibrada.\n",
    "\n",
    "Para esto se utiliza la funcion binomial del paquete random de la libreria numpy."
   ]
  },
  {
   "cell_type": "code",
   "execution_count": 5,
   "metadata": {},
   "outputs": [
    {
     "data": {
      "text/plain": [
       "2"
      ]
     },
     "execution_count": 5,
     "metadata": {},
     "output_type": "execute_result"
    }
   ],
   "source": [
    "p=0.5\n",
    "n=3\n",
    "\n",
    "binomial(n, p)"
   ]
  },
  {
   "cell_type": "code",
   "execution_count": 7,
   "metadata": {},
   "outputs": [
    {
     "name": "stdout",
     "output_type": "stream",
     "text": [
      "[2, 1, 2, 2, 1, 3, 2, 2, 2, 2, 3, 1, 0, 1, 0, 1, 2, 1, 1, 2, 1, 2, 2, 1, 1, 1, 2, 3, 1, 1, 0, 1, 1, 2, 0, 2, 2, 2, 0, 1, 1, 2, 2, 1, 1, 1, 0, 2, 1, 0, 2, 2, 0, 0, 2, 0, 3, 2, 2, 1, 3, 1, 2, 2, 2, 2, 0, 2, 2, 3, 2, 1, 1, 0, 1, 0, 1, 2, 1, 2, 1, 2, 0, 2, 1, 2, 1, 1, 2, 1, 2, 1, 2, 0, 2, 1, 2, 1, 1, 2, 1]\n"
     ]
    }
   ],
   "source": [
    "results = []\n",
    "cont = 0\n",
    "\n",
    "while cont <= 100:\n",
    "    results.append(binomial(n, p))\n",
    "    cont+=1\n",
    "\n",
    "print(results)"
   ]
  },
  {
   "cell_type": "markdown",
   "metadata": {},
   "source": [
    "Con el codigo anterior se busca repetir el mismo ejercicio 100 veces y guardar los resultados en un arreglo/lista para a continuación hallar el histograma."
   ]
  },
  {
   "cell_type": "code",
   "execution_count": 12,
   "metadata": {},
   "outputs": [
    {
     "name": "stdout",
     "output_type": "stream",
     "text": [
      "Los resultados de la simulación son: [0.14 0.39 0.3  0.17]\n",
      "los resultados teoricos son: [0.125, 0.3750000000000001, 0.3750000000000001, 0.125]\n"
     ]
    },
    {
     "data": {
      "image/png": "[encoded data removed]",
      "text/plain": [
       "<Figure size 432x288 with 1 Axes>"
      ]
     },
     "metadata": {
      "needs_background": "light"
     },
     "output_type": "display_data"
    }
   ],
   "source": [
    "def plot_hist(intentos):\n",
    "    val = [0, 1, 2, 3]\n",
    "    results = []\n",
    "    for _ in range(intentos):\n",
    "        results.append(binomial(n, p))\n",
    "    simulacion = np.unique(results, return_counts=True)[1]/len(results)\n",
    "    teorica = [binom(3, 0.5).pmf(k) for k in val]\n",
    "    plt.bar(val, simulacion, color='r')\n",
    "    plt.bar(val, teorica,alpha=0.55, color='b')\n",
    "    plt.title(f'{intentos} experimentos')\n",
    "    plt.show\n",
    "    print(f\"Los resultados de la simulación son: {simulacion}\")\n",
    "    print(f\"los resultados teoricos son: {teorica}\")\n",
    "\n",
    "plot_hist(100)"
   ]
  },
  {
   "cell_type": "markdown",
   "metadata": {},
   "source": [
    "### Distribuciones continuas:\n",
    "\n",
    "#### Distribución Normal:\n",
    "\n",
    "La distribución normal o gaussiana es la distribución continua más utilizada y se puede describir mediante:\n",
    "\n",
    "$$ P(X)=\\frac{1}{\\sigma\\sqrt{2\\pi}}exp^{-\\frac{1}{2}(\\frac{X-\\mu}{\\sigma})^2}$$\n",
    "\n",
    "Donde $\\mu$ es la media de la distribución y $\\sigma$ es la desviación estandar de la distribución."
   ]
  },
  {
   "cell_type": "code",
   "execution_count": 13,
   "metadata": {},
   "outputs": [],
   "source": [
    "def gaussiana(x, mu, sigma):\n",
    "    return (1/(sigma*np.sqrt(2*np.pi)))*np.exp(-0.5*pow(((x-mu)/sigma), 2))"
   ]
  },
  {
   "cell_type": "code",
   "execution_count": 17,
   "metadata": {},
   "outputs": [
    {
     "data": {
      "text/plain": [
       "[<matplotlib.lines.Line2D at 0x7fc2225b1f70>]"
      ]
     },
     "execution_count": 17,
     "metadata": {},
     "output_type": "execute_result"
    },
    {
     "data": {
      "image/png": "[encoded data removed]",
      "text/plain": [
       "<Figure size 432x288 with 1 Axes>"
      ]
     },
     "metadata": {
      "needs_background": "light"
     },
     "output_type": "display_data"
    }
   ],
   "source": [
    "x = np.arange(-4, 4, 0.1)\n",
    "y = gaussiana(x, 0.0, 1)\n",
    "\n",
    "plt.plot(x, y)"
   ]
  },
  {
   "cell_type": "markdown",
   "metadata": {},
   "source": [
    "Tambien se puede generar una distribución normal a partir de la funcion norm del paquete Stats de la libreria scipy, en donde el metodo `.pdf()` es la funcion de densidad de probabilidad. y el metodo `.cdf()` es la funcion de densidad de probabilidad acumulada"
   ]
  },
  {
   "cell_type": "code",
   "execution_count": 54,
   "metadata": {},
   "outputs": [
    {
     "data": {
      "text/plain": [
       "[<matplotlib.lines.Line2D at 0x7f73c0a57400>]"
      ]
     },
     "execution_count": 54,
     "metadata": {},
     "output_type": "execute_result"
    },
    {
     "data": {
      "image/png": "[encoded data removed]",
      "text/plain": [
       "<Figure size 432x288 with 1 Axes>"
      ]
     },
     "metadata": {
      "needs_background": "light"
     },
     "output_type": "display_data"
    }
   ],
   "source": [
    "normal=norm(0, 1)\n",
    "x = np.arange(-4, 4, 0.1)\n",
    "y = [normal.pdf(i) for i in x]\n",
    "\n",
    "plt.plot(x,y)"
   ]
  },
  {
   "cell_type": "code",
   "execution_count": 23,
   "metadata": {},
   "outputs": [
    {
     "data": {
      "text/plain": [
       "[<matplotlib.lines.Line2D at 0x7fc95409cca0>]"
      ]
     },
     "execution_count": 23,
     "metadata": {},
     "output_type": "execute_result"
    },
    {
     "data": {
      "image/png": "[encoded data removed]",
      "text/plain": [
       "<Figure size 432x288 with 1 Axes>"
      ]
     },
     "metadata": {
      "needs_background": "light"
     },
     "output_type": "display_data"
    }
   ],
   "source": [
    "normal=norm(0, 1)\n",
    "x = np.arange(-4, 4, 0.1)\n",
    "y = [normal.cdf(i) for i in x]\n",
    "\n",
    "plt.plot(x,y)"
   ]
  },
  {
   "cell_type": "code",
   "execution_count": 21,
   "metadata": {},
   "outputs": [
    {
     "name": "stdout",
     "output_type": "stream",
     "text": [
      "1estadisticos.ipynb\t\t 4matrixCovarianza.ipynb  7MLE.ipynb\n",
      "2pipelineDatosNumericos.ipynb\t 5pca.ipynb\t\t  data.xls\n",
      "3pipelineDatosCategoricos.ipynb  6probabilidad.ipynb\t  notas\n"
     ]
    }
   ],
   "source": [
    "!ls"
   ]
  },
  {
   "cell_type": "markdown",
   "metadata": {},
   "source": [
    "Tambien se puede observar que la distribución normal tambien es propia de los elementos naturales como por ejemplo con la longitud de las alas de las moscas."
   ]
  },
  {
   "cell_type": "code",
   "execution_count": 3,
   "metadata": {},
   "outputs": [
    {
     "name": "stdout",
     "output_type": "stream",
     "text": [
      "/home/odmorenoc/anaconda3/bin/python: No module named pip\n",
      "Note: you may need to restart the kernel to use updated packages.\n"
     ]
    }
   ],
   "source": [
    "pip install pandas"
   ]
  },
  {
   "cell_type": "code",
   "execution_count": 1,
   "metadata": {},
   "outputs": [
    {
     "ename": "ModuleNotFoundError",
     "evalue": "No module named 'pandas'",
     "output_type": "error",
     "traceback": [
      "\u001b[0;31m---------------------------------------------------------------------------\u001b[0m",
      "\u001b[0;31mModuleNotFoundError\u001b[0m                       Traceback (most recent call last)",
      "\u001b[0;32m/tmp/ipykernel_3132/346454327.py\u001b[0m in \u001b[0;36m<module>\u001b[0;34m\u001b[0m\n\u001b[0;32m----> 1\u001b[0;31m \u001b[0;32mimport\u001b[0m \u001b[0mpandas\u001b[0m \u001b[0;32mas\u001b[0m \u001b[0mpd\u001b[0m\u001b[0;34m\u001b[0m\u001b[0;34m\u001b[0m\u001b[0m\n\u001b[0m\u001b[1;32m      2\u001b[0m \u001b[0mdf\u001b[0m \u001b[0;34m=\u001b[0m \u001b[0mpd\u001b[0m\u001b[0;34m.\u001b[0m\u001b[0mread_excel\u001b[0m\u001b[0;34m(\u001b[0m\u001b[0;34m'data.xls'\u001b[0m\u001b[0;34m)\u001b[0m\u001b[0;34m\u001b[0m\u001b[0;34m\u001b[0m\u001b[0m\n\u001b[1;32m      3\u001b[0m \u001b[0mdf\u001b[0m\u001b[0;34m.\u001b[0m\u001b[0msample\u001b[0m\u001b[0;34m(\u001b[0m\u001b[0;36m5\u001b[0m\u001b[0;34m)\u001b[0m\u001b[0;34m\u001b[0m\u001b[0;34m\u001b[0m\u001b[0m\n",
      "\u001b[0;31mModuleNotFoundError\u001b[0m: No module named 'pandas'"
     ]
    }
   ],
   "source": [
    "import pandas as pd\n",
    "df = pd.read_excel('data.xls')\n",
    "df.sample(5)"
   ]
  },
  {
   "cell_type": "code",
   "execution_count": null,
   "metadata": {},
   "outputs": [],
   "source": [
    "arr = df['Normally Distributed Housefly Wing Lengths'].values[4:]"
   ]
  },
  {
   "cell_type": "code",
   "execution_count": 26,
   "metadata": {},
   "outputs": [
    {
     "data": {
      "text/plain": [
       "<BarContainer object of 19 artists>"
      ]
     },
     "execution_count": 26,
     "metadata": {},
     "output_type": "execute_result"
    },
    {
     "data": {
      "image/png": "[encoded data removed]",
      "text/plain": [
       "<Figure size 432x288 with 1 Axes>"
      ]
     },
     "metadata": {
      "needs_background": "light"
     },
     "output_type": "display_data"
    }
   ],
   "source": [
    "val, frecuencia = np.unique(arr, return_counts=True)\n",
    "\n",
    "plt.bar(val, frecuencia)"
   ]
  },
  {
   "cell_type": "markdown",
   "metadata": {},
   "source": [
    "Con la grafica anterior evenciamos que aparentemente la distribución de frecuencias de las alas de las moscas sigue una distribución normal, sin embargo para validar esta afirmación podemos generar una funcion de densidad de probabilidad con promedio de los datos $\\mu$ y desviación estandar $\\sigma$ y compararlo con el histograma de frencuencias, sin embargo par que ambos graficos se encuentren en la misma escala se debe dividir el conteo de la frencuencia de los valores entre el valor total de valores, de manera que se obtenga la frencuencia en terminos relativos (porcentaje)"
   ]
  },
  {
   "cell_type": "code",
   "execution_count": 20,
   "metadata": {},
   "outputs": [
    {
     "data": {
      "text/plain": [
       "<BarContainer object of 19 artists>"
      ]
     },
     "execution_count": 20,
     "metadata": {},
     "output_type": "execute_result"
    },
    {
     "data": {
      "image/png": "[encoded data removed]",
      "text/plain": [
       "<Figure size 432x288 with 1 Axes>"
      ]
     },
     "metadata": {
      "needs_background": "light"
     },
     "output_type": "display_data"
    }
   ],
   "source": [
    "mu = arr.mean()\n",
    "sigma = arr.std()\n",
    "x = np.arange(30,60, 0.1)\n",
    "dist = norm(mu,sigma)\n",
    "y = [dist.pdf(i) for i in x]\n",
    "plt.plot(x, y)\n",
    "val, frec = np.unique(arr, return_counts=True)\n",
    "plt.bar(val, frec/len(arr))"
   ]
  },
  {
   "cell_type": "markdown",
   "metadata": {},
   "source": [
    "### Estimar la densidad de probabilidad:"
   ]
  },
  {
   "cell_type": "code",
   "execution_count": 27,
   "metadata": {},
   "outputs": [
    {
     "data": {
      "text/plain": [
       "(array([1.000e+00, 1.000e+00, 2.000e+00, 1.000e+01, 1.600e+01, 3.300e+01,\n",
       "        5.100e+01, 1.120e+02, 1.730e+02, 2.940e+02, 4.320e+02, 5.650e+02,\n",
       "        7.270e+02, 8.130e+02, 9.970e+02, 1.023e+03, 1.022e+03, 9.040e+02,\n",
       "        8.430e+02, 6.200e+02, 5.000e+02, 3.570e+02, 2.090e+02, 1.430e+02,\n",
       "        7.300e+01, 3.900e+01, 2.000e+01, 1.100e+01, 4.000e+00, 5.000e+00]),\n",
       " array([-4.07894539, -3.82028982, -3.56163426, -3.30297869, -3.04432312,\n",
       "        -2.78566756, -2.52701199, -2.26835643, -2.00970086, -1.75104529,\n",
       "        -1.49238973, -1.23373416, -0.97507859, -0.71642303, -0.45776746,\n",
       "        -0.1991119 ,  0.05954367,  0.31819924,  0.5768548 ,  0.83551037,\n",
       "         1.09416594,  1.3528215 ,  1.61147707,  1.87013263,  2.1287882 ,\n",
       "         2.38744377,  2.64609933,  2.9047549 ,  3.16341047,  3.42206603,\n",
       "         3.6807216 ]),\n",
       " <BarContainer object of 30 artists>)"
      ]
     },
     "execution_count": 27,
     "metadata": {},
     "output_type": "execute_result"
    },
    {
     "data": {
      "image/png": "[encoded data removed]",
      "text/plain": [
       "<Figure size 432x288 with 1 Axes>"
      ]
     },
     "metadata": {
      "needs_background": "light"
     },
     "output_type": "display_data"
    }
   ],
   "source": [
    "sample = normal(size = 10000) #generador de numeros aleatorios con dist Normal\n",
    "plt.hist(sample, bins = 30)"
   ]
  },
  {
   "cell_type": "markdown",
   "metadata": {},
   "source": [
    "#### Estimación paramétrica: \n",
    "\n",
    "La estimación parametrica implica forzar los datos a contar con una distribución normal, de manera que se puedan realizar estimativos con los valores obtenidos."
   ]
  },
  {
   "cell_type": "code",
   "execution_count": 33,
   "metadata": {},
   "outputs": [
    {
     "data": {
      "image/png": "[encoded data removed]",
      "text/plain": [
       "<Figure size 432x288 with 1 Axes>"
      ]
     },
     "metadata": {
      "needs_background": "light"
     },
     "output_type": "display_data"
    }
   ],
   "source": [
    "sample = normal(size = 10000, loc=50, scale=5) #mu=loc y sigma=scale\n",
    "plt.hist(sample, bins = 30, density=True)\n",
    "mu = sample.mean()\n",
    "sigma = sample.std()\n",
    "dist = norm(mu,sigma)\n",
    "value = [value for value in range(30, 70)]\n",
    "probabilidades = [dist.pdf(i) for i in value]\n",
    "\n",
    "plt.plot(value, probabilidades)\n",
    "plt.show()"
   ]
  },
  {
   "cell_type": "markdown",
   "metadata": {},
   "source": [
    "#### Estimación no paramétrica:\n",
    "\n",
    "Significa que no se estan forzando parametros de una distribución, sino que se realiza una combinación de multiples distribuciones.\n",
    "\n",
    "Para el ejercicio se plantea utilizar el dataframe de densidad de kernel de scikit-learn "
   ]
  },
  {
   "cell_type": "code",
   "execution_count": 54,
   "metadata": {},
   "outputs": [
    {
     "data": {
      "text/plain": [
       "(array([0.00098625, 0.        , 0.        , 0.00098625, 0.00690373,\n",
       "        0.00295874, 0.00493124, 0.00197249, 0.00197249, 0.01479371,\n",
       "        0.00986247, 0.01479371, 0.02268369, 0.02662868, 0.01577996,\n",
       "        0.02465618, 0.0167662 , 0.02071119, 0.0187387 , 0.02366994,\n",
       "        0.02071119, 0.00986247, 0.01380746, 0.01380746, 0.00887623,\n",
       "        0.0187387 , 0.01183497, 0.01972495, 0.03057367, 0.02366994,\n",
       "        0.04438113, 0.0355049 , 0.04240863, 0.03944989, 0.06410608,\n",
       "        0.05325736, 0.06114733, 0.05325736, 0.04142239, 0.0542436 ,\n",
       "        0.02465618, 0.02366994, 0.01479371, 0.01084872, 0.00690373,\n",
       "        0.00788998, 0.00394499, 0.        , 0.00098625, 0.00197249]),\n",
       " array([ 3.94088852,  4.95483297,  5.96877742,  6.98272187,  7.99666632,\n",
       "         9.01061077, 10.02455522, 11.03849967, 12.05244412, 13.06638857,\n",
       "        14.08033302, 15.09427746, 16.10822191, 17.12216636, 18.13611081,\n",
       "        19.15005526, 20.16399971, 21.17794416, 22.19188861, 23.20583306,\n",
       "        24.21977751, 25.23372196, 26.2476664 , 27.26161085, 28.2755553 ,\n",
       "        29.28949975, 30.3034442 , 31.31738865, 32.3313331 , 33.34527755,\n",
       "        34.359222  , 35.37316645, 36.3871109 , 37.40105535, 38.41499979,\n",
       "        39.42894424, 40.44288869, 41.45683314, 42.47077759, 43.48472204,\n",
       "        44.49866649, 45.51261094, 46.52655539, 47.54049984, 48.55444429,\n",
       "        49.56838873, 50.58233318, 51.59627763, 52.61022208, 53.62416653,\n",
       "        54.63811098]),\n",
       " <BarContainer object of 50 artists>)"
      ]
     },
     "execution_count": 54,
     "metadata": {},
     "output_type": "execute_result"
    },
    {
     "data": {
      "image/png": "[encoded data removed]",
      "text/plain": [
       "<Figure size 432x288 with 1 Axes>"
      ]
     },
     "metadata": {
      "needs_background": "light"
     },
     "output_type": "display_data"
    }
   ],
   "source": [
    "from numpy import hstack\n",
    "from sklearn.neighbors import KernelDensity\n",
    "\n",
    "muestra1 = normal(loc=20, scale=5, size=300)\n",
    "muestra2 = normal(loc=40, scale=5, size=700)\n",
    "muestra = hstack((muestra1, muestra2))\n",
    "\n",
    "plt.hist(muestra, bins=50, density= True)\n"
   ]
  },
  {
   "cell_type": "markdown",
   "metadata": {},
   "source": [
    "Con el codigo anterior se busca unir las dos muestras generadas en una sola variable.\n",
    "\n",
    "A continuación se utiliza el metodo de densidad de kernel que lo que busca es realizar un suavizado de los datos conforme una constante de suavizado `bandwidth` y un tipo de distribución `kernel`.\n",
    "\n",
    "Para ejecutarlo guardamos el metodo en una variable (`modelo`) y la variable la ajustamos (`.fit`) conforme a los datos (`muestra`)\n",
    "\n",
    "Con el metodo `.reshape()` lo que se busca es redimensionar el dataframe a una sola columna con n filas"
   ]
  },
  {
   "cell_type": "code",
   "execution_count": 58,
   "metadata": {},
   "outputs": [
    {
     "data": {
      "text/plain": [
       "KernelDensity(bandwidth=2)"
      ]
     },
     "execution_count": 58,
     "metadata": {},
     "output_type": "execute_result"
    }
   ],
   "source": [
    "modelo = KernelDensity(bandwidth=2, kernel='gaussian')\n",
    "muestra = muestra.reshape((len(muestra), 1)) \n",
    "modelo.fit(muestra)"
   ]
  },
  {
   "cell_type": "markdown",
   "metadata": {},
   "source": [
    "Ahora se procede a ajustar el modelo a los datos,para esto lo primero que hacemos es determinar los valores X de la funcion, es decir `values` esto lo hacemos mediante un array en el rango de los datos, y ese rango de los datos lo sabemos de la grafica anterior, es decir de 0 a 60.\n",
    "\n",
    "luego proseguimos a hallar las probabilidades (frecuencias) de esos valores las cuales se obtienen del `modelo` que ya ha sido ajustado a los datos reales.\n",
    "\n",
    "Este calculo lo hacemos primero por el metodo `.score_sample()` que realiza el calculo de forma algoritmica para reducir la complejidad temporal y posteriormente se convierten los resultados con el metodo `.exp()` para obtener los datos originales."
   ]
  },
  {
   "cell_type": "code",
   "execution_count": 59,
   "metadata": {},
   "outputs": [
    {
     "data": {
      "text/plain": [
       "[<matplotlib.lines.Line2D at 0x7fc9529cd250>]"
      ]
     },
     "execution_count": 59,
     "metadata": {},
     "output_type": "execute_result"
    },
    {
     "data": {
      "image/png": "[encoded data removed]",
      "text/plain": [
       "<Figure size 432x288 with 1 Axes>"
      ]
     },
     "metadata": {
      "needs_background": "light"
     },
     "output_type": "display_data"
    }
   ],
   "source": [
    "x = np.asarray([i for i in range(0, 60)])\n",
    "x = x.reshape((len(x), 1))\n",
    "y = modelo.score_samples(x) #probabilidad logarítmica\n",
    "y = np.exp(y)  # inversión de probabilidad\n",
    "\n",
    "plt.plot(x, y)"
   ]
  },
  {
   "cell_type": "markdown",
   "metadata": {},
   "source": [
    "Finalmente validamos que la estimación de la funcion de densidad de probabilidad se ajuste a los datos originales:"
   ]
  },
  {
   "cell_type": "code",
   "execution_count": 60,
   "metadata": {},
   "outputs": [
    {
     "data": {
      "image/png": "[encoded data removed]",
      "text/plain": [
       "<Figure size 432x288 with 1 Axes>"
      ]
     },
     "metadata": {
      "needs_background": "light"
     },
     "output_type": "display_data"
    }
   ],
   "source": [
    "plt.hist(muestra, bins=50, density=True)\n",
    "plt.plot(x, y)\n",
    "plt.show()"
   ]
  },
  {
   "cell_type": "markdown",
   "metadata": {},
   "source": [
    "Con Esto validamos que la funcion que generamos si se ajusta a los valores originales."
   ]
  }
 ],
 "metadata": {
  "interpreter": {
   "hash": "f670921bb82ebaa3fbbff9a0f19bdbfd2a0674ad12607e566ecb3478558a6de3"
  },
  "kernelspec": {
   "display_name": "Python 3.8.8 ('base')",
   "language": "python",
   "name": "python3"
  },
  "language_info": {
   "codemirror_mode": {
    "name": "ipython",
    "version": 3
   },
   "file_extension": ".py",
   "mimetype": "text/x-python",
   "name": "python",
   "nbconvert_exporter": "python",
   "pygments_lexer": "ipython3",
   "version": "3.8.8"
  },
  "orig_nbformat": 4
 },
 "nbformat": 4,
 "nbformat_minor": 2
}
